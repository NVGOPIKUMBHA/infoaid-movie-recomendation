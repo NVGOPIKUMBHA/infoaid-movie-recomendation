{
  "cells": [
    {
      "cell_type": "code",
      "execution_count": 1,
      "metadata": {
        "id": "AzOrqJMQlyC6"
      },
      "outputs": [
        {
          "ename": "ModuleNotFoundError",
          "evalue": "No module named 'pandas'",
          "output_type": "error",
          "traceback": [
            "\u001b[1;31m---------------------------------------------------------------------------\u001b[0m",
            "\u001b[1;31mModuleNotFoundError\u001b[0m                       Traceback (most recent call last)",
            "Cell \u001b[1;32mIn[1], line 1\u001b[0m\n\u001b[1;32m----> 1\u001b[0m \u001b[39mimport\u001b[39;00m \u001b[39mpandas\u001b[39;00m \u001b[39mas\u001b[39;00m \u001b[39mpd\u001b[39;00m\n\u001b[0;32m      3\u001b[0m \u001b[39m# Load the dataset into a Pandas dataframe\u001b[39;00m\n\u001b[0;32m      4\u001b[0m ratings \u001b[39m=\u001b[39m pd\u001b[39m.\u001b[39mread_csv(\u001b[39m'\u001b[39m\u001b[39mmovies.csv\u001b[39m\u001b[39m'\u001b[39m)\n",
            "\u001b[1;31mModuleNotFoundError\u001b[0m: No module named 'pandas'"
          ]
        }
      ],
      "source": [
        "import pandas as pd\n",
        "\n",
        "# Load the dataset into a Pandas dataframe\n",
        "ratings = pd.read_csv('movies.csv')"
      ]
    },
    {
      "cell_type": "code",
      "execution_count": 13,
      "metadata": {
        "colab": {
          "base_uri": "https://localhost:8080/"
        },
        "id": "XcX2DAdKmy8A",
        "outputId": "794ee95b-c7c5-436e-e45c-758b08b77882"
      },
      "outputs": [
        {
          "name": "stdout",
          "output_type": "stream",
          "text": [
            "movieId    0\n",
            "title      0\n",
            "genres     0\n",
            "rating     0\n",
            "dtype: int64\n",
            "0\n"
          ]
        }
      ],
      "source": [
        "# Check for missing values\n",
        "print(ratings.isnull().sum())\n",
        "\n",
        "# Check for duplicates\n",
        "print(ratings.duplicated().sum())\n",
        "\n",
        "# Remove duplicates\n",
        "ratings.drop_duplicates(inplace=True)"
      ]
    },
    {
      "cell_type": "code",
      "execution_count": 14,
      "metadata": {
        "id": "OMrsFCJcnp62"
      },
      "outputs": [],
      "source": [
        "# Convert the dataframe into a pivot table\n",
        "user_item_matrix = pd.pivot_table(ratings, index='movieId', columns='title', values='rating', fill_value=0)\n",
        "\n",
        "# Convert the pivot table to a sparse matrix\n",
        "from scipy.sparse import csr_matrix\n",
        "user_item_matrix = csr_matrix(user_item_matrix.values)"
      ]
    },
    {
      "cell_type": "code",
      "execution_count": 15,
      "metadata": {
        "colab": {
          "base_uri": "https://localhost:8080/",
          "height": 74
        },
        "id": "9Vj5WvGdnzT0",
        "outputId": "99171d67-6730-4781-aa60-6c09c4df0a97"
      },
      "outputs": [
        {
          "data": {
            "text/html": [
              "<style>#sk-container-id-2 {color: black;background-color: white;}#sk-container-id-2 pre{padding: 0;}#sk-container-id-2 div.sk-toggleable {background-color: white;}#sk-container-id-2 label.sk-toggleable__label {cursor: pointer;display: block;width: 100%;margin-bottom: 0;padding: 0.3em;box-sizing: border-box;text-align: center;}#sk-container-id-2 label.sk-toggleable__label-arrow:before {content: \"▸\";float: left;margin-right: 0.25em;color: #696969;}#sk-container-id-2 label.sk-toggleable__label-arrow:hover:before {color: black;}#sk-container-id-2 div.sk-estimator:hover label.sk-toggleable__label-arrow:before {color: black;}#sk-container-id-2 div.sk-toggleable__content {max-height: 0;max-width: 0;overflow: hidden;text-align: left;background-color: #f0f8ff;}#sk-container-id-2 div.sk-toggleable__content pre {margin: 0.2em;color: black;border-radius: 0.25em;background-color: #f0f8ff;}#sk-container-id-2 input.sk-toggleable__control:checked~div.sk-toggleable__content {max-height: 200px;max-width: 100%;overflow: auto;}#sk-container-id-2 input.sk-toggleable__control:checked~label.sk-toggleable__label-arrow:before {content: \"▾\";}#sk-container-id-2 div.sk-estimator input.sk-toggleable__control:checked~label.sk-toggleable__label {background-color: #d4ebff;}#sk-container-id-2 div.sk-label input.sk-toggleable__control:checked~label.sk-toggleable__label {background-color: #d4ebff;}#sk-container-id-2 input.sk-hidden--visually {border: 0;clip: rect(1px 1px 1px 1px);clip: rect(1px, 1px, 1px, 1px);height: 1px;margin: -1px;overflow: hidden;padding: 0;position: absolute;width: 1px;}#sk-container-id-2 div.sk-estimator {font-family: monospace;background-color: #f0f8ff;border: 1px dotted black;border-radius: 0.25em;box-sizing: border-box;margin-bottom: 0.5em;}#sk-container-id-2 div.sk-estimator:hover {background-color: #d4ebff;}#sk-container-id-2 div.sk-parallel-item::after {content: \"\";width: 100%;border-bottom: 1px solid gray;flex-grow: 1;}#sk-container-id-2 div.sk-label:hover label.sk-toggleable__label {background-color: #d4ebff;}#sk-container-id-2 div.sk-serial::before {content: \"\";position: absolute;border-left: 1px solid gray;box-sizing: border-box;top: 0;bottom: 0;left: 50%;z-index: 0;}#sk-container-id-2 div.sk-serial {display: flex;flex-direction: column;align-items: center;background-color: white;padding-right: 0.2em;padding-left: 0.2em;position: relative;}#sk-container-id-2 div.sk-item {position: relative;z-index: 1;}#sk-container-id-2 div.sk-parallel {display: flex;align-items: stretch;justify-content: center;background-color: white;position: relative;}#sk-container-id-2 div.sk-item::before, #sk-container-id-2 div.sk-parallel-item::before {content: \"\";position: absolute;border-left: 1px solid gray;box-sizing: border-box;top: 0;bottom: 0;left: 50%;z-index: -1;}#sk-container-id-2 div.sk-parallel-item {display: flex;flex-direction: column;z-index: 1;position: relative;background-color: white;}#sk-container-id-2 div.sk-parallel-item:first-child::after {align-self: flex-end;width: 50%;}#sk-container-id-2 div.sk-parallel-item:last-child::after {align-self: flex-start;width: 50%;}#sk-container-id-2 div.sk-parallel-item:only-child::after {width: 0;}#sk-container-id-2 div.sk-dashed-wrapped {border: 1px dashed gray;margin: 0 0.4em 0.5em 0.4em;box-sizing: border-box;padding-bottom: 0.4em;background-color: white;}#sk-container-id-2 div.sk-label label {font-family: monospace;font-weight: bold;display: inline-block;line-height: 1.2em;}#sk-container-id-2 div.sk-label-container {text-align: center;}#sk-container-id-2 div.sk-container {/* jupyter's `normalize.less` sets `[hidden] { display: none; }` but bootstrap.min.css set `[hidden] { display: none !important; }` so we also need the `!important` here to be able to override the default hidden behavior on the sphinx rendered scikit-learn.org. See: https://github.com/scikit-learn/scikit-learn/issues/21755 */display: inline-block !important;position: relative;}#sk-container-id-2 div.sk-text-repr-fallback {display: none;}</style><div id=\"sk-container-id-2\" class=\"sk-top-container\"><div class=\"sk-text-repr-fallback\"><pre>NearestNeighbors(algorithm=&#x27;brute&#x27;, metric=&#x27;cosine&#x27;)</pre><b>In a Jupyter environment, please rerun this cell to show the HTML representation or trust the notebook. <br />On GitHub, the HTML representation is unable to render, please try loading this page with nbviewer.org.</b></div><div class=\"sk-container\" hidden><div class=\"sk-item\"><div class=\"sk-estimator sk-toggleable\"><input class=\"sk-toggleable__control sk-hidden--visually\" id=\"sk-estimator-id-2\" type=\"checkbox\" checked><label for=\"sk-estimator-id-2\" class=\"sk-toggleable__label sk-toggleable__label-arrow\">NearestNeighbors</label><div class=\"sk-toggleable__content\"><pre>NearestNeighbors(algorithm=&#x27;brute&#x27;, metric=&#x27;cosine&#x27;)</pre></div></div></div></div></div>"
            ],
            "text/plain": [
              "NearestNeighbors(algorithm='brute', metric='cosine')"
            ]
          },
          "execution_count": 15,
          "metadata": {},
          "output_type": "execute_result"
        }
      ],
      "source": [
        "from sklearn.neighbors import NearestNeighbors\n",
        "\n",
        "# Train the KNN model using the sparse matrix\n",
        "knn_model = NearestNeighbors(metric='cosine', algorithm='brute')\n",
        "knn_model.fit(user_item_matrix)"
      ]
    },
    {
      "cell_type": "code",
      "execution_count": 16,
      "metadata": {
        "id": "H7goefBzn5KV"
      },
      "outputs": [],
      "source": [
        "# Function to get movie recommendations for a user\n",
        "def get_movie_recommendations(movie_id, num_recommendations=5):\n",
        "    # Find the k nearest neighbors of the movie\n",
        "    distances, indices = knn_model.kneighbors(user_item_matrix[movie_id], n_neighbors=num_recommendations+1)\n",
        "\n",
        "    # Get the indices of the recommended movies\n",
        "    recommended_movie_indices = indices.squeeze()[1:]\n",
        "\n",
        "    # Get the titles of the recommended movies\n",
        "    recommended_movie_titles = user_item_matrix[recommended_movie_indices].transpose().index\n",
        "\n",
        "    return recommended_movie_titles"
      ]
    },
    {
      "cell_type": "code",
      "execution_count": 20,
      "metadata": {
        "colab": {
          "base_uri": "https://localhost:8080/"
        },
        "id": "HdSe535Yp0AW",
        "outputId": "3fe353bf-f1f9-4bd1-9247-48b335cf267e"
      },
      "outputs": [
        {
          "name": "stdout",
          "output_type": "stream",
          "text": [
            "Int64Index([6884, 6887, 6886, 6889, 6883], dtype='int64')\n"
          ]
        }
      ],
      "source": [
        "# Function to get movie recommendations for a movie\n",
        "def get_movie_recommendations(movie_id, num_recommendations=5):\n",
        "    # Find the k nearest neighbors of the movie\n",
        "    distances, indices = knn_model.kneighbors(user_item_matrix[movie_id], n_neighbors=num_recommendations+1)\n",
        "\n",
        "    # Get the indices of the recommended movies\n",
        "    recommended_movie_indices = indices.squeeze()[1:]\n",
        "\n",
        "    # Convert the sparse matrix to a dense matrix\n",
        "    user_item_dense = user_item_matrix.toarray()\n",
        "\n",
        "    # Get the titles of the recommended movies\n",
        "    recommended_movie_titles = pd.DataFrame(user_item_dense).iloc[recommended_movie_indices].index\n",
        "\n",
        "    return recommended_movie_titles\n",
        "\n",
        "# Test the model by getting recommendations for a movie\n",
        "movie_id = 42\n",
        "recommended_movies = get_movie_recommendations(movie_id)\n",
        "print(recommended_movies)"
      ]
    },
    {
      "cell_type": "code",
      "execution_count": 24,
      "metadata": {
        "colab": {
          "base_uri": "https://localhost:8080/"
        },
        "id": "9FnjiFk3qhiK",
        "outputId": "f225301c-f0b3-406f-e2c4-4b5ea5e277fc"
      },
      "outputs": [
        {
          "name": "stdout",
          "output_type": "stream",
          "text": [
            "6884    Lady Vengeance (Sympathy for Lady Vengeance) (...\n",
            "6887                     District 13 (Banlieue 13) (2004)\n",
            "6886                                     Ted Bundy (2002)\n",
            "6889                                        Hostel (2005)\n",
            "6883    We All Loved Each Other So Much (C'eravamo tan...\n",
            "Name: title, dtype: object\n"
          ]
        }
      ],
      "source": [
        "recommended_movie_indices = [6884, 6887, 6886, 6889, 6883]\n",
        "recommended_movie_titles = ratings.loc[recommended_movie_indices, 'title']\n",
        "print(recommended_movie_titles)"
      ]
    },
    {
      "cell_type": "code",
      "execution_count": 42,
      "metadata": {
        "colab": {
          "base_uri": "https://localhost:8080/"
        },
        "id": "f2Ny-fbesjPj",
        "outputId": "2466af9b-dcbf-4878-cf10-a783078467a9"
      },
      "outputs": [
        {
          "name": "stdout",
          "output_type": "stream",
          "text": [
            "movieId    0\n",
            "title      0\n",
            "genres     0\n",
            "rating     0\n",
            "dtype: int64\n",
            "0\n",
            "6884    Lady Vengeance (Sympathy for Lady Vengeance) (...\n",
            "6887                     District 13 (Banlieue 13) (2004)\n",
            "6886                                     Ted Bundy (2002)\n",
            "6889                                        Hostel (2005)\n",
            "6883    We All Loved Each Other So Much (C'eravamo tan...\n",
            "Name: title, dtype: object\n",
            "Mean Absolute Error: 3.8\n",
            "Root Mean Squared Error: 3.872983346207417\n"
          ]
        }
      ],
      "source": [
        "import pandas as pd\n",
        "from scipy.sparse import csr_matrix\n",
        "from sklearn.neighbors import NearestNeighbors\n",
        "from sklearn.metrics import mean_absolute_error, mean_squared_error\n",
        "\n",
        "# Load the dataset into a Pandas dataframe\n",
        "ratings = pd.read_csv('movies.csv')\n",
        "\n",
        "# Check for missing values\n",
        "print(ratings.isnull().sum())\n",
        "\n",
        "# Check for duplicates\n",
        "print(ratings.duplicated().sum())\n",
        "\n",
        "# Remove duplicates\n",
        "ratings.drop_duplicates(inplace=True)\n",
        "\n",
        "# Convert the dataframe into a pivot table\n",
        "user_item_matrix = pd.pivot_table(ratings, index=ratings.index, columns='movieId', values='rating', fill_value=0)\n",
        "\n",
        "# Convert the pivot table to a sparse matrix\n",
        "user_item_matrix = csr_matrix(user_item_matrix.values)\n",
        "\n",
        "# Train the KNN model using the sparse matrix\n",
        "knn_model = NearestNeighbors(metric='cosine', algorithm='brute')\n",
        "knn_model.fit(user_item_matrix)\n",
        "\n",
        "# Function to get movie recommendations for a user\n",
        "def get_movie_recommendations(movie_id, num_recommendations=5):\n",
        "    # Find the k nearest neighbors of the movie\n",
        "    distances, indices = knn_model.kneighbors(user_item_matrix[movie_id], n_neighbors=num_recommendations+1)\n",
        "\n",
        "    # Get the indices of the recommended movies\n",
        "    recommended_movie_indices = indices.squeeze()[1:]\n",
        "\n",
        "    # Get the titles of the recommended movies\n",
        "    #recommended_movie_titles = user_item_matrix[recommended_movie_indices].transpose().index\n",
        "\n",
        "    return recommended_movie_titles\n",
        "\n",
        "# Test the model by getting recommendations for a movie\n",
        "movie_id = 42\n",
        "recommended_movies = get_movie_recommendations(movie_id)\n",
        "print(recommended_movies)\n",
        "\n",
        "# Assume the following are the actual ratings for the recommended movies by a user\n",
        "actual_ratings = [4, 3, 5, 4, 3]\n",
        "\n",
        "# Calculate the mean absolute error and root mean squared error\n",
        "predicted_ratings = [ratings.loc[ratings['title'] == title, 'rating'].mean() for title in recommended_movies]\n",
        "mae = mean_absolute_error(actual_ratings, predicted_ratings)\n",
        "rmse = mean_squared_error(actual_ratings, predicted_ratings, squared=False)\n",
        "\n",
        "print(f'Mean Absolute Error: {mae}')\n",
        "print(f'Root Mean Squared Error: {rmse}')\n"
      ]
    }
  ],
  "metadata": {
    "colab": {
      "provenance": []
    },
    "kernelspec": {
      "display_name": "Python 3",
      "name": "python3"
    },
    "language_info": {
      "codemirror_mode": {
        "name": "ipython",
        "version": 3
      },
      "file_extension": ".py",
      "mimetype": "text/x-python",
      "name": "python",
      "nbconvert_exporter": "python",
      "pygments_lexer": "ipython3",
      "version": "3.10.11"
    }
  },
  "nbformat": 4,
  "nbformat_minor": 0
}
